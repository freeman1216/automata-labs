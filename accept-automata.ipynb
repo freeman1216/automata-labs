{
 "cells": [
  {
   "cell_type": "markdown",
   "metadata": {
    "id": "5uD4ub5br2an"
   },
   "source": [
    "<h2>Моделирование конечного акцептора.</h2>\n",
    "\n",
    "Разработайте и реализуйте на языке Python класс, который моделирует конечный акцептор.\n",
    "\n",
    "A = $(\\sum, S, s_0 \\in S, F, \\sigma:S \\times \\sum \\to S)$\n",
    "\n",
    "$\\sum$ - алфавит, $S$ - множество состояний, $s_0 \\in S$ - начальное состояние, $F$ - множество конечных состояний, $\\sigma$ - функция перехода от $S \\times \\sum$ к $S$.\n",
    "\n"
   ]
  },
  {
   "cell_type": "markdown",
   "metadata": {},
   "source": [
    "* Функция accept возвращающая bool"
   ]
  },
  {
   "cell_type": "code",
   "execution_count": null,
   "metadata": {},
   "outputs": [],
   "source": [
    "            \n",
    "    def accept(self, word:Iterable) -> bool:\n",
    "        try:\n",
    "            word = list(word)\n",
    "        except:\n",
    "            raise TypeError('Argument in accept() is not iterable.')\n",
    "\n",
    "        \n",
    "        def get_instance(cur_inst:object, word:list) -> object:#Функция для получения последнего состояния\n",
    "\n",
    "                for token in word:\n",
    "                    cur_inst = self.omega[(cur_inst, token)]\n",
    "\n",
    "                return cur_inst\n",
    "\n",
    "        last_inst = get_instance(self.s0, word)\n",
    "\n",
    "        return last_inst in self.final_instances #Проверка наличия последнего состояния в числе конечных состояний\n"
   ]
  },
  {
   "cell_type": "markdown",
   "metadata": {},
   "source": [
    "* Полный код программы"
   ]
  },
  {
   "cell_type": "code",
   "execution_count": null,
   "metadata": {
    "id": "F9_CpzAQr2ar"
   },
   "outputs": [],
   "source": [
    "from collections.abc import Iterable\n",
    "\n",
    "class Acceptor(object):\n",
    "    def __init__(self):\n",
    "            \n",
    "        s0_in_omega = False\n",
    "            \n",
    "        for key, value in omega.items():\n",
    "            \n",
    "            if not isinstance(key, tuple):\n",
    "                raise TypeError(f'{key} (type {type(key)}) is not of type tuple.')\n",
    "                \n",
    "            if len(key) != 2:\n",
    "                raise TypeError(f'Keys in omega should be tuple with size 2, not {len(key)} ({key}).')\n",
    "                \n",
    "            s, e = key\n",
    "            \n",
    "            if s not in instances:\n",
    "                raise ValueError(f's in {key} is not in instances.')\n",
    "                \n",
    "            if e not in sigma:\n",
    "                raise ValueError(f'e in {key} is not in sigma.')\n",
    "                \n",
    "            if value not in instances:\n",
    "                raise ValueError(f'{value} is not in sigma.')\n",
    "                \n",
    "            s0_in_omega = (s == s0) or s0_in_omega\n",
    "\n",
    "        if not s0_in_omega:\n",
    "            raise ValueError('s0 is not available in omega.')\n",
    "            \n",
    "    def accept(self, word:Iterable, recursive:bool=False) -> bool:\n",
    "        try:\n",
    "            word = list(word)\n",
    "        except:\n",
    "            raise TypeError('Argument in accept() is not iterable.')\n",
    "\n",
    "       \n",
    "        def get_instance(cur_inst:object, word:list) -> object:\n",
    "\n",
    "                for token in word:\n",
    "                    cur_inst = self.omega[(cur_inst, token)]\n",
    "\n",
    "                return cur_inst\n",
    "\n",
    "        last_inst = get_instance(self.s0, word)\n",
    "\n",
    "        return last_inst in self.final_instances\n",
    "       \n",
    "    @property\n",
    "    def sigma(self) -> set: \n",
    "        return self.sigma\n",
    "    \n",
    "    @property\n",
    "    def instances(self) -> set:\n",
    "        return self.instances\n",
    "    \n",
    "    @property\n",
    "    def s0(self) -> object:\n",
    "        return self.s0\n",
    "    \n",
    "    @property\n",
    "    def final_instances(self) -> set:\n",
    "        return self.final_instances\n",
    "    \n",
    "    @property\n",
    "    def omega(self) -> set:\n",
    "        return self.omega"
   ]
  }
 ],
 "metadata": {
  "colab": {
   "collapsed_sections": [],
   "name": "Acceptor.ipynb",
   "provenance": []
  },
  "kernelspec": {
   "display_name": "Python 3",
   "language": "python",
   "name": "python3"
  },
  "language_info": {
   "codemirror_mode": {
    "name": "ipython",
    "version": 3
   },
   "file_extension": ".py",
   "mimetype": "text/x-python",
   "name": "python",
   "nbconvert_exporter": "python",
   "pygments_lexer": "ipython3",
   "version": "3.9.6"
  }
 },
 "nbformat": 4,
 "nbformat_minor": 1
}
