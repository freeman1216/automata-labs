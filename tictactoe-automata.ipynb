{
 "cells": [
  {
   "cell_type": "raw",
   "metadata": {
    "id": "Vjto4tokDsVS"
   },
   "source": [
    "### Программная реализация игры \"крестики-нолики\" как автомата\n",
    "\n",
    "\n"
   ]
  },
  {
   "cell_type": "code",
   "execution_count": 2,
   "metadata": {
    "id": "e5qowj1husQm"
   },
   "source": [
    "alphabet = ['-', 'X', 'O'] # Алфавит\n",
    "board = [alphabet[0], alphabet[0], alphabet[0], alphabet[0], \\\n",
    "alphabet[0], alphabet[0], alphabet[0], alphabet[0], alphabet[0]] # Начальное состояние доски\n",
    "def grab(coordinate): # Функция grab для реализации хода игрока\n",
    "    if board[coordinate - 1] != alphabet[0]:\n",
    "        print(\"You can't place\", player, \"here\")\n",
    "        return False\n",
    "    else:\n",
    "        board[coordinate - 1] = player\n",
    "        return board\n",
    "    \n",
    "def board_checker(): # Функция для определения победителя\n",
    "    if board[0] == board[1] == board[2] != alphabet[0] \\    #\n",
    "       or board[3] == board[4] == board[5] != alphabet[0] \\ #\n",
    "       or board[6] == board[7] == board[8] != alphabet[0] \\ #\n",
    "       or board[0] == board[3] == board[6] != alphabet[0] \\ #\n",
    "       or board[1] == board[4] == board[7] != alphabet[0] \\ #\n",
    "       or board[2] == board[5] == board[8] != alphabet[0] \\ #\n",
    "       or board[0] == board[4] == board[8] != alphabet[0] \\ # Конечные состояния\n",
    "       or board[2] == board[4] == board[6] != alphabet[0] : #\n",
    "        print(\"Congratulations!\", player, \"won!\")\n",
    "        input()\n",
    "        return 1\n",
    "    for x in board:\n",
    "        if x == alphabet[0]:\n",
    "            return 0\n",
    "    print(\"Draw\")\n",
    "    input()\n",
    "    return 2\n",
    "        \n",
    "def player_switch(turn): # Смена игрока\n",
    "    if turn % 2 > 0:\n",
    "        player = 'X'\n",
    "        return player\n",
    "    else:\n",
    "        player = 'O'\n",
    "        return player\n",
    "def table_show():  \n",
    "    print(\"\")\n",
    "    print(board[0], board[1], board[2])\n",
    "    print(board[3], board[4], board[5])\n",
    "    print(board[6], board[7], board[8])\n",
    "    print(\"\")\n",
    "\n",
    "turn = 1 #Cама реализация игры\n",
    "while board_checker() == 0:\n",
    "    player = player_switch(turn)\n",
    "    print(\"It's\", player, \"'s turn!\")\n",
    "    coordinate = input(\"Enter the number of a cell\\n\")\n",
    "    coordinate = int(coordinate)\n",
    "    state = grab(coordinate)\n",
    "    while state == False:\n",
    "        coordinate = input(\"Enter the number of a cell\\n\")\n",
    "        coordinate = int(coordinate)\n",
    "        state = grab(coordinate)\n",
    "    board[coordinate - 1] = player\n",
    "    turn += 1\n",
    "    table_show()\n"
   ]
  }
 ],
 "metadata": {
  "colab": {
   "collapsed_sections": [],
   "name": "noughts_and_crosses.ipynb",
   "provenance": []
  },
  "kernelspec": {
   "display_name": "Python 3",
   "language": "python",
   "name": "python3"
  },
  "language_info": {
   "codemirror_mode": {
    "name": "ipython",
    "version": 3
   },
   "file_extension": ".py",
   "mimetype": "text/x-python",
   "name": "python",
   "nbconvert_exporter": "python",
   "pygments_lexer": "ipython3",
   "version": "3.9.6"
  }
 },
 "nbformat": 4,
 "nbformat_minor": 1
}
