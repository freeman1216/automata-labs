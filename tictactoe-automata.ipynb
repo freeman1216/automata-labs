{
 "cells": [
  {
   "cell_type": "raw",
   "metadata": {
    "id": "Vjto4tokDsVS"
   },
   "source": [
    "### Программная реализация игры \"крестики-нолики\" как автомата\n",
    "\n",
    "\n"
   ]
  },
  {
   "cell_type": "code",
   "execution_count": 2,
   "metadata": {
    "id": "e5qowj1husQm"
   },
   "outputs": [
    {
     "name": "stdout",
     "output_type": "stream",
     "text": [
      "It's X 's turn!\n",
      "Enter the number of a cell\n",
      "1\n",
      "\n",
      "X - -\n",
      "- - -\n",
      "- - -\n",
      "\n",
      "It's O 's turn!\n",
      "Enter the number of a cell\n",
      "2\n",
      "\n",
      "X O -\n",
      "- - -\n",
      "- - -\n",
      "\n",
      "It's X 's turn!\n"
     ]
    },
    {
     "ename": "KeyboardInterrupt",
     "evalue": "Interrupted by user",
     "output_type": "error",
     "traceback": [
      "\u001b[0;31m---------------------------------------------------------------------------\u001b[0m",
      "\u001b[0;31mKeyboardInterrupt\u001b[0m                         Traceback (most recent call last)",
      "\u001b[0;32m<ipython-input-2-ed43203649d4>\u001b[0m in \u001b[0;36m<module>\u001b[0;34m\u001b[0m\n\u001b[1;32m     47\u001b[0m     \u001b[0mplayer\u001b[0m \u001b[0;34m=\u001b[0m \u001b[0mplayer_switch\u001b[0m\u001b[0;34m(\u001b[0m\u001b[0mturn\u001b[0m\u001b[0;34m)\u001b[0m\u001b[0;34m\u001b[0m\u001b[0;34m\u001b[0m\u001b[0m\n\u001b[1;32m     48\u001b[0m     \u001b[0mprint\u001b[0m\u001b[0;34m(\u001b[0m\u001b[0;34m\"It's\"\u001b[0m\u001b[0;34m,\u001b[0m \u001b[0mplayer\u001b[0m\u001b[0;34m,\u001b[0m \u001b[0;34m\"'s turn!\"\u001b[0m\u001b[0;34m)\u001b[0m\u001b[0;34m\u001b[0m\u001b[0;34m\u001b[0m\u001b[0m\n\u001b[0;32m---> 49\u001b[0;31m     \u001b[0mcoordinate\u001b[0m \u001b[0;34m=\u001b[0m \u001b[0minput\u001b[0m\u001b[0;34m(\u001b[0m\u001b[0;34m\"Enter the number of a cell\\n\"\u001b[0m\u001b[0;34m)\u001b[0m\u001b[0;34m\u001b[0m\u001b[0;34m\u001b[0m\u001b[0m\n\u001b[0m\u001b[1;32m     50\u001b[0m     \u001b[0mcoordinate\u001b[0m \u001b[0;34m=\u001b[0m \u001b[0mint\u001b[0m\u001b[0;34m(\u001b[0m\u001b[0mcoordinate\u001b[0m\u001b[0;34m)\u001b[0m\u001b[0;34m\u001b[0m\u001b[0;34m\u001b[0m\u001b[0m\n\u001b[1;32m     51\u001b[0m     \u001b[0mstate\u001b[0m \u001b[0;34m=\u001b[0m \u001b[0mgrab\u001b[0m\u001b[0;34m(\u001b[0m\u001b[0mcoordinate\u001b[0m\u001b[0;34m)\u001b[0m\u001b[0;34m\u001b[0m\u001b[0;34m\u001b[0m\u001b[0m\n",
      "\u001b[0;32m/usr/lib/python3.9/site-packages/ipykernel/kernelbase.py\u001b[0m in \u001b[0;36mraw_input\u001b[0;34m(self, prompt)\u001b[0m\n\u001b[1;32m    846\u001b[0m                 \u001b[0;34m\"raw_input was called, but this frontend does not support input requests.\"\u001b[0m\u001b[0;34m\u001b[0m\u001b[0;34m\u001b[0m\u001b[0m\n\u001b[1;32m    847\u001b[0m             )\n\u001b[0;32m--> 848\u001b[0;31m         return self._input_request(str(prompt),\n\u001b[0m\u001b[1;32m    849\u001b[0m             \u001b[0mself\u001b[0m\u001b[0;34m.\u001b[0m\u001b[0m_parent_ident\u001b[0m\u001b[0;34m,\u001b[0m\u001b[0;34m\u001b[0m\u001b[0;34m\u001b[0m\u001b[0m\n\u001b[1;32m    850\u001b[0m             \u001b[0mself\u001b[0m\u001b[0;34m.\u001b[0m\u001b[0m_parent_header\u001b[0m\u001b[0;34m,\u001b[0m\u001b[0;34m\u001b[0m\u001b[0;34m\u001b[0m\u001b[0m\n",
      "\u001b[0;32m/usr/lib/python3.9/site-packages/ipykernel/kernelbase.py\u001b[0m in \u001b[0;36m_input_request\u001b[0;34m(self, prompt, ident, parent, password)\u001b[0m\n\u001b[1;32m    890\u001b[0m             \u001b[0;32mexcept\u001b[0m \u001b[0mKeyboardInterrupt\u001b[0m\u001b[0;34m:\u001b[0m\u001b[0;34m\u001b[0m\u001b[0;34m\u001b[0m\u001b[0m\n\u001b[1;32m    891\u001b[0m                 \u001b[0;31m# re-raise KeyboardInterrupt, to truncate traceback\u001b[0m\u001b[0;34m\u001b[0m\u001b[0;34m\u001b[0m\u001b[0;34m\u001b[0m\u001b[0m\n\u001b[0;32m--> 892\u001b[0;31m                 \u001b[0;32mraise\u001b[0m \u001b[0mKeyboardInterrupt\u001b[0m\u001b[0;34m(\u001b[0m\u001b[0;34m\"Interrupted by user\"\u001b[0m\u001b[0;34m)\u001b[0m \u001b[0;32mfrom\u001b[0m \u001b[0;32mNone\u001b[0m\u001b[0;34m\u001b[0m\u001b[0;34m\u001b[0m\u001b[0m\n\u001b[0m\u001b[1;32m    893\u001b[0m             \u001b[0;32mexcept\u001b[0m \u001b[0mException\u001b[0m \u001b[0;32mas\u001b[0m \u001b[0me\u001b[0m\u001b[0;34m:\u001b[0m\u001b[0;34m\u001b[0m\u001b[0;34m\u001b[0m\u001b[0m\n\u001b[1;32m    894\u001b[0m                 \u001b[0mself\u001b[0m\u001b[0;34m.\u001b[0m\u001b[0mlog\u001b[0m\u001b[0;34m.\u001b[0m\u001b[0mwarning\u001b[0m\u001b[0;34m(\u001b[0m\u001b[0;34m\"Invalid Message:\"\u001b[0m\u001b[0;34m,\u001b[0m \u001b[0mexc_info\u001b[0m\u001b[0;34m=\u001b[0m\u001b[0;32mTrue\u001b[0m\u001b[0;34m)\u001b[0m\u001b[0;34m\u001b[0m\u001b[0;34m\u001b[0m\u001b[0m\n",
      "\u001b[0;31mKeyboardInterrupt\u001b[0m: Interrupted by user"
     ]
    }
   ],
   "source": [
    "alphabet = ['-', 'X', 'O'] # Алфавит\n",
    "board = [alphabet[0], alphabet[0], alphabet[0], alphabet[0], \\\n",
    "alphabet[0], alphabet[0], alphabet[0], alphabet[0], alphabet[0]] # Начальное состояние доски\n",
    "def grab(coordinate): # Функция grab для реализации хода игрока\n",
    "    if board[coordinate - 1] != alphabet[0]:\n",
    "        print(\"You can't place\", player, \"here\")\n",
    "        return False\n",
    "    else:\n",
    "        board[coordinate - 1] = player\n",
    "        return board\n",
    "    \n",
    "def board_checker(): # Функция для определения победителя\n",
    "    if board[0] == board[1] == board[2] != alphabet[0] \\    #\n",
    "       or board[3] == board[4] == board[5] != alphabet[0] \\ #\n",
    "       or board[6] == board[7] == board[8] != alphabet[0] \\ #\n",
    "       or board[0] == board[3] == board[6] != alphabet[0] \\ #\n",
    "       or board[1] == board[4] == board[7] != alphabet[0] \\ #\n",
    "       or board[2] == board[5] == board[8] != alphabet[0] \\ #\n",
    "       or board[0] == board[4] == board[8] != alphabet[0] \\ # Конечные состояния\n",
    "       or board[2] == board[4] == board[6] != alphabet[0] : #\n",
    "        print(\"Congratulations!\", player, \"won!\")\n",
    "        input()\n",
    "        return 1\n",
    "    for x in board:\n",
    "        if x == alphabet[0]:\n",
    "            return 0\n",
    "    print(\"Draw\")\n",
    "    input()\n",
    "    return 2\n",
    "        \n",
    "def player_switch(turn): # Смена игрока\n",
    "    if turn % 2 > 0:\n",
    "        player = 'X'\n",
    "        return player\n",
    "    else:\n",
    "        player = 'O'\n",
    "        return player\n",
    "def table_show():  \n",
    "    print(\"\")\n",
    "    print(board[0], board[1], board[2])\n",
    "    print(board[3], board[4], board[5])\n",
    "    print(board[6], board[7], board[8])\n",
    "    print(\"\")\n",
    "\n",
    "turn = 1 #Cама реализация игры\n",
    "while board_checker() == 0:\n",
    "    player = player_switch(turn)\n",
    "    print(\"It's\", player, \"'s turn!\")\n",
    "    coordinate = input(\"Enter the number of a cell\\n\")\n",
    "    coordinate = int(coordinate)\n",
    "    state = grab(coordinate)\n",
    "    while state == False:\n",
    "        coordinate = input(\"Enter the number of a cell\\n\")\n",
    "        coordinate = int(coordinate)\n",
    "        state = grab(coordinate)\n",
    "    board[coordinate - 1] = player\n",
    "    turn += 1\n",
    "    table_show()\n"
   ]
  }
 ],
 "metadata": {
  "colab": {
   "collapsed_sections": [],
   "name": "noughts_and_crosses.ipynb",
   "provenance": []
  },
  "kernelspec": {
   "display_name": "Python 3",
   "language": "python",
   "name": "python3"
  },
  "language_info": {
   "codemirror_mode": {
    "name": "ipython",
    "version": 3
   },
   "file_extension": ".py",
   "mimetype": "text/x-python",
   "name": "python",
   "nbconvert_exporter": "python",
   "pygments_lexer": "ipython3",
   "version": "3.9.6"
  }
 },
 "nbformat": 4,
 "nbformat_minor": 1
}
