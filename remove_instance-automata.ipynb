{
 "cells": [
  {
   "cell_type": "markdown",
   "metadata": {
    "id": "x8t_6CLBO6rt"
   },
   "source": [
    "<h2>Удаление недостижимых состояний</h2>\n",
    "Далее показана реализация функции, которая принимает экземпрляр класса \"конечный акцептор\" и возвращает экземпляр этого же класа, который соответствует акцептору, полученному из входного путём удаления недостижимых состояний.\n",
    "\n",
    "Код в начале взят из 3-ей лабораторной работы.\n",
    "Алгоритм:\n",
    "Для начала необходимо пометить каждое состояние как \"Ложь\", считать \"s\" за начальное состояние и пройти по всем символам из $\\sigma$.\n",
    "Когда все достижимые состояния будут помечены как \"Истина\", программа завершит выполнение."
   ]
  },
  {
   "cell_type": "markdown",
   "metadata": {},
   "source": [
    "* Код функции удаляющей недостижимые состояния"
   ]
  },
  {
   "cell_type": "code",
   "execution_count": null,
   "metadata": {},
   "outputs": [],
   "source": [
    "def remove_instances(acceptor: Acceptor) -> Acceptor:\n",
    "    sigma = acceptor.sigma\n",
    "    instances = acceptor.instances\n",
    "    s0 = acceptor.s0\n",
    "    omega = acceptor.omega   \n",
    "    marking  ={ instance: False for instance in instances} # Помечаем каждое состояние как \"False\"\n",
    "    def mark(s:object) -> None: \n",
    "        marking[s] = True # Помечаем состояние как \"True\" начиная с первого состояния\n",
    "            \n",
    "        for token in sigma:\n",
    "            if not marking[omega[(s, token)]]:\n",
    "                mark(omega[(s, token)]) # Помечаем все достижимые состояния как \"True\" \n",
    "    mark(s0)\n",
    "    \n",
    "    instances = {key for key in marking.keys() if marking[key]}\n",
    "    \n",
    "    return Acceptor(sigma,\n",
    "                    instances,\n",
    "                    s0,\n",
    "                    acceptor.final_instances,\n",
    "                    omega)"
   ]
  },
  {
   "cell_type": "markdown",
   "metadata": {},
   "source": [
    "* Полный код программы"
   ]
  },
  {
   "cell_type": "code",
   "execution_count": 4,
   "metadata": {
    "id": "Dcmo2em3O6rt"
   },
   "outputs": [],
   "source": [
    "from collections.abc import Iterable\n",
    "\n",
    "class Acceptor(object):\n",
    "    def __init__(self):\n",
    "            \n",
    "        s0_in_omega = False\n",
    "            \n",
    "        for key, value in omega.items():\n",
    "            \n",
    "            if not isinstance(key, tuple):\n",
    "                raise TypeError(f'{key} (type {type(key)}) is not of type tuple.')\n",
    "                \n",
    "            if len(key) != 2:\n",
    "                raise TypeError(f'Keys in omega should be tuple with size 2, not {len(key)} ({key}).')\n",
    "                \n",
    "            s, e = key\n",
    "            \n",
    "            if s not in instances:\n",
    "                raise ValueError(f's in {key} is not in instances.')\n",
    "                \n",
    "            if e not in sigma:\n",
    "                raise ValueError(f'e in {key} is not in sigma.')\n",
    "                \n",
    "            if value not in instances:\n",
    "                raise ValueError(f'{value} is not in sigma.')\n",
    "                \n",
    "            s0_in_omega = (s == s0) or s0_in_omega\n",
    "\n",
    "        if not s0_in_omega:\n",
    "            raise ValueError('s0 is not available in omega.')\n",
    "            \n",
    "    def accept(self, word:Iterable, recursive:bool=False) -> bool:\n",
    "        try:\n",
    "            word = list(word)\n",
    "        except:\n",
    "            raise TypeError('Argument in accept() is not iterable.')\n",
    "\n",
    "       \n",
    "        def get_instance(cur_inst:object, word:list) -> object:\n",
    "\n",
    "                for token in word:\n",
    "                    cur_inst = self.omega[(cur_inst, token)]\n",
    "\n",
    "                return cur_inst\n",
    "\n",
    "        last_inst = get_instance(self.s0, word)\n",
    "\n",
    "        return last_inst in self.final_instances\n",
    "       \n",
    "    @property\n",
    "    def sigma(self) -> set: \n",
    "        return self.sigma\n",
    "    \n",
    "    @property\n",
    "    def instances(self) -> set:\n",
    "        return self.instances\n",
    "    \n",
    "    @property\n",
    "    def s0(self) -> object:\n",
    "        return self.s0\n",
    "    \n",
    "    @property\n",
    "    def final_instances(self) -> set:\n",
    "        return self.final_instances\n",
    "    \n",
    "    @property\n",
    "    def omega(self) -> set:\n",
    "        return self.omega\n",
    "\n",
    "\n",
    "def remove_instances(acceptor: Acceptor) -> Acceptor:\n",
    "    sigma = acceptor.sigma\n",
    "    instances = acceptor.instances\n",
    "    s0 = acceptor.s0\n",
    "    omega = acceptor.omega\n",
    "    def mark(s:object) -> None: \n",
    "        marking[s] = True\n",
    "            \n",
    "        for token in sigma:\n",
    "            if not marking[omega[(s, token)]]:\n",
    "                mark(omega[(s, token)])\n",
    "        \n",
    "    marking  ={ instance: False for instance in instances}\n",
    "    mark(s0)\n",
    "    \n",
    "    instances = {key for key in marking.keys() if marking[key]}\n",
    "    \n",
    "    return Acceptor(sigma,\n",
    "                    instances,\n",
    "                    s0,\n",
    "                    acceptor.final_instances,\n",
    "                    omega)"
   ]
  }
 ],
 "metadata": {
  "colab": {
   "collapsed_sections": [],
   "name": "Instance_remover.ipynb",
   "provenance": []
  },
  "kernelspec": {
   "display_name": "Python 3",
   "language": "python",
   "name": "python3"
  },
  "language_info": {
   "codemirror_mode": {
    "name": "ipython",
    "version": 3
   },
   "file_extension": ".py",
   "mimetype": "text/x-python",
   "name": "python",
   "nbconvert_exporter": "python",
   "pygments_lexer": "ipython3",
   "version": "3.9.6"
  }
 },
 "nbformat": 4,
 "nbformat_minor": 1
}
